{
 "cells": [
  {
   "cell_type": "code",
   "execution_count": 1,
   "id": "87a77c00",
   "metadata": {},
   "outputs": [
    {
     "name": "stdout",
     "output_type": "stream",
     "text": [
      "Requirement already satisfied: google_play_scraper in /opt/anaconda3/lib/python3.9/site-packages (1.2.2)\n",
      "Note: you may need to restart the kernel to use updated packages.\n"
     ]
    }
   ],
   "source": [
    "pip install google_play_scraper"
   ]
  },
  {
   "cell_type": "code",
   "execution_count": 1,
   "id": "875ae0a8",
   "metadata": {},
   "outputs": [],
   "source": [
    "import pandas as pd\n",
    "import numpy as np\n",
    "from google_play_scraper import app, Sort, reviews_all\n",
    "import datetime as dt\n",
    "import random\n",
    "import time\n",
    "from pprint import pprint"
   ]
  },
  {
   "cell_type": "code",
   "execution_count": 3,
   "id": "fc053615",
   "metadata": {},
   "outputs": [
    {
     "data": {
      "text/plain": [
       "'2022-10-27 18:10:20'"
      ]
     },
     "execution_count": 3,
     "metadata": {},
     "output_type": "execute_result"
    }
   ],
   "source": [
    "pd.read_csv('EMB_goo.csv')['at'].max()"
   ]
  },
  {
   "cell_type": "code",
   "execution_count": 4,
   "id": "413f0a9f",
   "metadata": {},
   "outputs": [],
   "source": [
    "emb_users_reviews_goo = reviews_all(\n",
    "                                'com.disney.emojimatch_goo',\n",
    "                                sleep_milliseconds = 0,\n",
    "                                lang = 'en',\n",
    "                                country = 'us',\n",
    "                                sort = Sort.NEWEST\n",
    ")"
   ]
  },
  {
   "cell_type": "code",
   "execution_count": 5,
   "id": "571c7690",
   "metadata": {},
   "outputs": [
    {
     "data": {
      "text/html": [
       "<div>\n",
       "<style scoped>\n",
       "    .dataframe tbody tr th:only-of-type {\n",
       "        vertical-align: middle;\n",
       "    }\n",
       "\n",
       "    .dataframe tbody tr th {\n",
       "        vertical-align: top;\n",
       "    }\n",
       "\n",
       "    .dataframe thead th {\n",
       "        text-align: right;\n",
       "    }\n",
       "</style>\n",
       "<table border=\"1\" class=\"dataframe\">\n",
       "  <thead>\n",
       "    <tr style=\"text-align: right;\">\n",
       "      <th></th>\n",
       "      <th>reviewId</th>\n",
       "      <th>userName</th>\n",
       "      <th>userImage</th>\n",
       "      <th>content</th>\n",
       "      <th>score</th>\n",
       "      <th>thumbsUpCount</th>\n",
       "      <th>reviewCreatedVersion</th>\n",
       "      <th>at</th>\n",
       "      <th>replyContent</th>\n",
       "      <th>repliedAt</th>\n",
       "    </tr>\n",
       "  </thead>\n",
       "  <tbody>\n",
       "    <tr>\n",
       "      <th>0</th>\n",
       "      <td>a1f89521-57c4-4412-9953-b275bc31876c</td>\n",
       "      <td>Jocelyn Sy</td>\n",
       "      <td>https://play-lh.googleusercontent.com/a/ALm5wu...</td>\n",
       "      <td>Fun</td>\n",
       "      <td>5</td>\n",
       "      <td>0</td>\n",
       "      <td>52.0.0</td>\n",
       "      <td>2022-10-27 18:10:20</td>\n",
       "      <td>None</td>\n",
       "      <td>NaT</td>\n",
       "    </tr>\n",
       "    <tr>\n",
       "      <th>1</th>\n",
       "      <td>a97d3c40-b96b-4d87-8599-eb9e749d2c00</td>\n",
       "      <td>crystal may</td>\n",
       "      <td>https://play-lh.googleusercontent.com/a/ALm5wu...</td>\n",
       "      <td>Awful. No matter the updates game randomly clo...</td>\n",
       "      <td>1</td>\n",
       "      <td>0</td>\n",
       "      <td>51.2.0</td>\n",
       "      <td>2022-10-27 12:17:07</td>\n",
       "      <td>Hello Crystal, we have launched a new game ver...</td>\n",
       "      <td>2022-10-28 18:33:14</td>\n",
       "    </tr>\n",
       "    <tr>\n",
       "      <th>2</th>\n",
       "      <td>c4f8d81d-1455-45d8-b682-592cd86493ba</td>\n",
       "      <td>Coreter</td>\n",
       "      <td>https://play-lh.googleusercontent.com/a-/ACNPE...</td>\n",
       "      <td>It's really cool!</td>\n",
       "      <td>5</td>\n",
       "      <td>0</td>\n",
       "      <td>51.2.0</td>\n",
       "      <td>2022-10-27 07:07:17</td>\n",
       "      <td>None</td>\n",
       "      <td>NaT</td>\n",
       "    </tr>\n",
       "    <tr>\n",
       "      <th>3</th>\n",
       "      <td>1ea99c09-7a2a-4026-96d2-2fb5e49ddd72</td>\n",
       "      <td>Jordan Christie</td>\n",
       "      <td>https://play-lh.googleusercontent.com/a-/ACNPE...</td>\n",
       "      <td>I used to really love this game but have recen...</td>\n",
       "      <td>2</td>\n",
       "      <td>0</td>\n",
       "      <td>51.2.0</td>\n",
       "      <td>2022-10-26 15:11:40</td>\n",
       "      <td>Hello Jordan, we have launched a new game vers...</td>\n",
       "      <td>2022-10-28 18:33:33</td>\n",
       "    </tr>\n",
       "    <tr>\n",
       "      <th>4</th>\n",
       "      <td>aa63511d-9be6-43d2-8faf-2506569eb3c4</td>\n",
       "      <td>Heather Nicole</td>\n",
       "      <td>https://play-lh.googleusercontent.com/a/ALm5wu...</td>\n",
       "      <td>I love this game but I don't know why it just ...</td>\n",
       "      <td>4</td>\n",
       "      <td>0</td>\n",
       "      <td>51.2.0</td>\n",
       "      <td>2022-10-26 03:42:00</td>\n",
       "      <td>Thank you for your rating, Heather! Please che...</td>\n",
       "      <td>2022-10-27 18:31:50</td>\n",
       "    </tr>\n",
       "  </tbody>\n",
       "</table>\n",
       "</div>"
      ],
      "text/plain": [
       "                               reviewId         userName  \\\n",
       "0  a1f89521-57c4-4412-9953-b275bc31876c       Jocelyn Sy   \n",
       "1  a97d3c40-b96b-4d87-8599-eb9e749d2c00      crystal may   \n",
       "2  c4f8d81d-1455-45d8-b682-592cd86493ba          Coreter   \n",
       "3  1ea99c09-7a2a-4026-96d2-2fb5e49ddd72  Jordan Christie   \n",
       "4  aa63511d-9be6-43d2-8faf-2506569eb3c4   Heather Nicole   \n",
       "\n",
       "                                           userImage  \\\n",
       "0  https://play-lh.googleusercontent.com/a/ALm5wu...   \n",
       "1  https://play-lh.googleusercontent.com/a/ALm5wu...   \n",
       "2  https://play-lh.googleusercontent.com/a-/ACNPE...   \n",
       "3  https://play-lh.googleusercontent.com/a-/ACNPE...   \n",
       "4  https://play-lh.googleusercontent.com/a/ALm5wu...   \n",
       "\n",
       "                                             content  score  thumbsUpCount  \\\n",
       "0                                                Fun      5              0   \n",
       "1  Awful. No matter the updates game randomly clo...      1              0   \n",
       "2                                  It's really cool!      5              0   \n",
       "3  I used to really love this game but have recen...      2              0   \n",
       "4  I love this game but I don't know why it just ...      4              0   \n",
       "\n",
       "  reviewCreatedVersion                  at  \\\n",
       "0               52.0.0 2022-10-27 18:10:20   \n",
       "1               51.2.0 2022-10-27 12:17:07   \n",
       "2               51.2.0 2022-10-27 07:07:17   \n",
       "3               51.2.0 2022-10-26 15:11:40   \n",
       "4               51.2.0 2022-10-26 03:42:00   \n",
       "\n",
       "                                        replyContent           repliedAt  \n",
       "0                                               None                 NaT  \n",
       "1  Hello Crystal, we have launched a new game ver... 2022-10-28 18:33:14  \n",
       "2                                               None                 NaT  \n",
       "3  Hello Jordan, we have launched a new game vers... 2022-10-28 18:33:33  \n",
       "4  Thank you for your rating, Heather! Please che... 2022-10-27 18:31:50  "
      ]
     },
     "execution_count": 5,
     "metadata": {},
     "output_type": "execute_result"
    }
   ],
   "source": [
    "emb_reviews_goo = pd.DataFrame(np.array(emb_users_reviews_goo),columns=['review'])\n",
    "emb_reviews_goo = emb_reviews_goo.join(pd.DataFrame(emb_reviews_goo.pop('review').tolist()))\n",
    "emb_reviews_goo.head()"
   ]
  },
  {
   "cell_type": "code",
   "execution_count": 6,
   "id": "e825031a",
   "metadata": {},
   "outputs": [
    {
     "name": "stdout",
     "output_type": "stream",
     "text": [
      "<class 'pandas.core.frame.DataFrame'>\n",
      "RangeIndex: 100521 entries, 0 to 100520\n",
      "Data columns (total 10 columns):\n",
      " #   Column                Non-Null Count   Dtype         \n",
      "---  ------                --------------   -----         \n",
      " 0   reviewId              100521 non-null  object        \n",
      " 1   userName              100521 non-null  object        \n",
      " 2   userImage             100521 non-null  object        \n",
      " 3   content               100521 non-null  object        \n",
      " 4   score                 100521 non-null  int64         \n",
      " 5   thumbsUpCount         100521 non-null  int64         \n",
      " 6   reviewCreatedVersion  88893 non-null   object        \n",
      " 7   at                    100521 non-null  datetime64[ns]\n",
      " 8   replyContent          8212 non-null    object        \n",
      " 9   repliedAt             8212 non-null    datetime64[ns]\n",
      "dtypes: datetime64[ns](2), int64(2), object(6)\n",
      "memory usage: 7.7+ MB\n"
     ]
    }
   ],
   "source": [
    "emb_reviews_goo.info()"
   ]
  },
  {
   "cell_type": "code",
   "execution_count": 7,
   "id": "41177911",
   "metadata": {},
   "outputs": [
    {
     "name": "stderr",
     "output_type": "stream",
     "text": [
      "/var/folders/7c/8ptk959x0m533j_8q9d72vn00000gn/T/ipykernel_58453/752791332.py:1: FutureWarning: Treating datetime data as categorical rather than numeric in `.describe` is deprecated and will be removed in a future version of pandas. Specify `datetime_is_numeric=True` to silence this warning and adopt the future behavior now.\n",
      "  emb_reviews_goo['at'].describe()\n"
     ]
    },
    {
     "data": {
      "text/plain": [
       "count                  100521\n",
       "unique                 100453\n",
       "top       2020-07-01 18:39:33\n",
       "freq                        2\n",
       "first     2016-04-09 21:49:23\n",
       "last      2022-10-27 18:10:20\n",
       "Name: at, dtype: object"
      ]
     },
     "execution_count": 7,
     "metadata": {},
     "output_type": "execute_result"
    }
   ],
   "source": [
    "emb_reviews_goo['at'].describe()"
   ]
  },
  {
   "cell_type": "code",
   "execution_count": 8,
   "id": "f7f9e457",
   "metadata": {},
   "outputs": [],
   "source": [
    "emb_reviews_goo.to_csv('EMB_goo.csv')"
   ]
  },
  {
   "cell_type": "code",
   "execution_count": 10,
   "id": "7d22e6a5",
   "metadata": {},
   "outputs": [
    {
     "data": {
      "text/html": [
       "<div>\n",
       "<style scoped>\n",
       "    .dataframe tbody tr th:only-of-type {\n",
       "        vertical-align: middle;\n",
       "    }\n",
       "\n",
       "    .dataframe tbody tr th {\n",
       "        vertical-align: top;\n",
       "    }\n",
       "\n",
       "    .dataframe thead th {\n",
       "        text-align: right;\n",
       "    }\n",
       "</style>\n",
       "<table border=\"1\" class=\"dataframe\">\n",
       "  <thead>\n",
       "    <tr style=\"text-align: right;\">\n",
       "      <th></th>\n",
       "      <th>content</th>\n",
       "      <th>score</th>\n",
       "    </tr>\n",
       "  </thead>\n",
       "  <tbody>\n",
       "    <tr>\n",
       "      <th>0</th>\n",
       "      <td>Fun</td>\n",
       "      <td>5</td>\n",
       "    </tr>\n",
       "    <tr>\n",
       "      <th>1</th>\n",
       "      <td>Awful. No matter the updates game randomly clo...</td>\n",
       "      <td>1</td>\n",
       "    </tr>\n",
       "    <tr>\n",
       "      <th>2</th>\n",
       "      <td>It's really cool!</td>\n",
       "      <td>5</td>\n",
       "    </tr>\n",
       "    <tr>\n",
       "      <th>3</th>\n",
       "      <td>I used to really love this game but have recen...</td>\n",
       "      <td>2</td>\n",
       "    </tr>\n",
       "    <tr>\n",
       "      <th>4</th>\n",
       "      <td>I love this game but I don't know why it just ...</td>\n",
       "      <td>4</td>\n",
       "    </tr>\n",
       "    <tr>\n",
       "      <th>...</th>\n",
       "      <td>...</td>\n",
       "      <td>...</td>\n",
       "    </tr>\n",
       "    <tr>\n",
       "      <th>100516</th>\n",
       "      <td>So much fun</td>\n",
       "      <td>5</td>\n",
       "    </tr>\n",
       "    <tr>\n",
       "      <th>100517</th>\n",
       "      <td>Love it very addictive. Got my partner hooked ...</td>\n",
       "      <td>5</td>\n",
       "    </tr>\n",
       "    <tr>\n",
       "      <th>100518</th>\n",
       "      <td>Addictive</td>\n",
       "      <td>5</td>\n",
       "    </tr>\n",
       "    <tr>\n",
       "      <th>100519</th>\n",
       "      <td>It the best came</td>\n",
       "      <td>5</td>\n",
       "    </tr>\n",
       "    <tr>\n",
       "      <th>100520</th>\n",
       "      <td>Can you make friends with your Facebook friend...</td>\n",
       "      <td>5</td>\n",
       "    </tr>\n",
       "  </tbody>\n",
       "</table>\n",
       "<p>100521 rows × 2 columns</p>\n",
       "</div>"
      ],
      "text/plain": [
       "                                                  content  score\n",
       "0                                                     Fun      5\n",
       "1       Awful. No matter the updates game randomly clo...      1\n",
       "2                                       It's really cool!      5\n",
       "3       I used to really love this game but have recen...      2\n",
       "4       I love this game but I don't know why it just ...      4\n",
       "...                                                   ...    ...\n",
       "100516                                        So much fun      5\n",
       "100517  Love it very addictive. Got my partner hooked ...      5\n",
       "100518                                          Addictive      5\n",
       "100519                                   It the best came      5\n",
       "100520  Can you make friends with your Facebook friend...      5\n",
       "\n",
       "[100521 rows x 2 columns]"
      ]
     },
     "execution_count": 10,
     "metadata": {},
     "output_type": "execute_result"
    }
   ],
   "source": [
    "emb_review_content = pd.DataFrame(emb_reviews_goo, columns = ['content','score'])\n",
    "emb_review_content"
   ]
  },
  {
   "cell_type": "code",
   "execution_count": 11,
   "id": "0c2d2e00",
   "metadata": {},
   "outputs": [
    {
     "data": {
      "text/plain": [
       "<AxesSubplot:ylabel='score'>"
      ]
     },
     "execution_count": 11,
     "metadata": {},
     "output_type": "execute_result"
    },
    {
     "data": {
      "image/png": "[encoded data removed]",
      "text/plain": [
       "<Figure size 576x576 with 1 Axes>"
      ]
     },
     "metadata": {},
     "output_type": "display_data"
    }
   ],
   "source": [
    "emb_review_content['score'].value_counts().plot(kind = 'pie', \n",
    "                                                figsize = (8,8),autopct = '%1.1f%%')"
   ]
  },
  {
   "cell_type": "code",
   "execution_count": 13,
   "id": "2247d443",
   "metadata": {},
   "outputs": [
    {
     "data": {
      "text/html": [
       "<div>\n",
       "<style scoped>\n",
       "    .dataframe tbody tr th:only-of-type {\n",
       "        vertical-align: middle;\n",
       "    }\n",
       "\n",
       "    .dataframe tbody tr th {\n",
       "        vertical-align: top;\n",
       "    }\n",
       "\n",
       "    .dataframe thead th {\n",
       "        text-align: right;\n",
       "    }\n",
       "</style>\n",
       "<table border=\"1\" class=\"dataframe\">\n",
       "  <thead>\n",
       "    <tr style=\"text-align: right;\">\n",
       "      <th></th>\n",
       "      <th>reviewId</th>\n",
       "      <th>userName</th>\n",
       "      <th>userImage</th>\n",
       "      <th>content</th>\n",
       "      <th>score</th>\n",
       "      <th>thumbsUpCount</th>\n",
       "      <th>reviewCreatedVersion</th>\n",
       "      <th>at</th>\n",
       "      <th>replyContent</th>\n",
       "      <th>repliedAt</th>\n",
       "    </tr>\n",
       "  </thead>\n",
       "  <tbody>\n",
       "    <tr>\n",
       "      <th>0</th>\n",
       "      <td>47774322-9855-4222-a01d-a39aaf2329d4</td>\n",
       "      <td>Joseph c Bourne</td>\n",
       "      <td>https://play-lh.googleusercontent.com/a-/ACNPE...</td>\n",
       "      <td>it alright game</td>\n",
       "      <td>3</td>\n",
       "      <td>0</td>\n",
       "      <td>11098</td>\n",
       "      <td>2022-10-27 20:16:52</td>\n",
       "      <td>None</td>\n",
       "      <td>NaT</td>\n",
       "    </tr>\n",
       "    <tr>\n",
       "      <th>1</th>\n",
       "      <td>2dfc8eb8-de15-411c-9eec-8ab64e50a02a</td>\n",
       "      <td>Samantha Riffe</td>\n",
       "      <td>https://play-lh.googleusercontent.com/a-/ACNPE...</td>\n",
       "      <td>so far, so good. no glitches and quick playing...</td>\n",
       "      <td>4</td>\n",
       "      <td>0</td>\n",
       "      <td>11098</td>\n",
       "      <td>2022-10-27 20:02:29</td>\n",
       "      <td>None</td>\n",
       "      <td>NaT</td>\n",
       "    </tr>\n",
       "    <tr>\n",
       "      <th>2</th>\n",
       "      <td>c1849221-a441-41c8-9224-f814bb6c1c36</td>\n",
       "      <td>Sara Sanders</td>\n",
       "      <td>https://play-lh.googleusercontent.com/a/ALm5wu...</td>\n",
       "      <td>fun</td>\n",
       "      <td>5</td>\n",
       "      <td>0</td>\n",
       "      <td>11098</td>\n",
       "      <td>2022-10-27 19:42:49</td>\n",
       "      <td>None</td>\n",
       "      <td>NaT</td>\n",
       "    </tr>\n",
       "    <tr>\n",
       "      <th>3</th>\n",
       "      <td>c2e9c54d-6ca9-48fb-8f63-9248193e7f95</td>\n",
       "      <td>Hydie Amoguis</td>\n",
       "      <td>https://play-lh.googleusercontent.com/a/ALm5wu...</td>\n",
       "      <td>💯👏👏👏👏🥰🥰🥰</td>\n",
       "      <td>3</td>\n",
       "      <td>0</td>\n",
       "      <td>11098</td>\n",
       "      <td>2022-10-27 19:34:25</td>\n",
       "      <td>None</td>\n",
       "      <td>NaT</td>\n",
       "    </tr>\n",
       "    <tr>\n",
       "      <th>4</th>\n",
       "      <td>f51c4dae-6368-41f8-9596-9f4781b6d4e6</td>\n",
       "      <td>Robert Barrett</td>\n",
       "      <td>https://play-lh.googleusercontent.com/a/ALm5wu...</td>\n",
       "      <td>What ever RAPIST created the Verizon app manag...</td>\n",
       "      <td>1</td>\n",
       "      <td>0</td>\n",
       "      <td>11098</td>\n",
       "      <td>2022-10-27 19:13:07</td>\n",
       "      <td>None</td>\n",
       "      <td>NaT</td>\n",
       "    </tr>\n",
       "  </tbody>\n",
       "</table>\n",
       "</div>"
      ],
      "text/plain": [
       "                               reviewId         userName  \\\n",
       "0  47774322-9855-4222-a01d-a39aaf2329d4  Joseph c Bourne   \n",
       "1  2dfc8eb8-de15-411c-9eec-8ab64e50a02a   Samantha Riffe   \n",
       "2  c1849221-a441-41c8-9224-f814bb6c1c36     Sara Sanders   \n",
       "3  c2e9c54d-6ca9-48fb-8f63-9248193e7f95    Hydie Amoguis   \n",
       "4  f51c4dae-6368-41f8-9596-9f4781b6d4e6   Robert Barrett   \n",
       "\n",
       "                                           userImage  \\\n",
       "0  https://play-lh.googleusercontent.com/a-/ACNPE...   \n",
       "1  https://play-lh.googleusercontent.com/a-/ACNPE...   \n",
       "2  https://play-lh.googleusercontent.com/a/ALm5wu...   \n",
       "3  https://play-lh.googleusercontent.com/a/ALm5wu...   \n",
       "4  https://play-lh.googleusercontent.com/a/ALm5wu...   \n",
       "\n",
       "                                             content  score  thumbsUpCount  \\\n",
       "0                                    it alright game      3              0   \n",
       "1  so far, so good. no glitches and quick playing...      4              0   \n",
       "2                                                fun      5              0   \n",
       "3                                           💯👏👏👏👏🥰🥰🥰      3              0   \n",
       "4  What ever RAPIST created the Verizon app manag...      1              0   \n",
       "\n",
       "  reviewCreatedVersion                  at replyContent repliedAt  \n",
       "0                11098 2022-10-27 20:16:52         None       NaT  \n",
       "1                11098 2022-10-27 20:02:29         None       NaT  \n",
       "2                11098 2022-10-27 19:42:49         None       NaT  \n",
       "3                11098 2022-10-27 19:34:25         None       NaT  \n",
       "4                11098 2022-10-27 19:13:07         None       NaT  "
      ]
     },
     "execution_count": 13,
     "metadata": {},
     "output_type": "execute_result"
    }
   ],
   "source": [
    "# Royal Match\n",
    "rm_users_reviews_goo = reviews_all(\n",
    "                                'com.dreamgames.royalmatch',\n",
    "                                sleep_milliseconds = 0,\n",
    "                                lang = 'en',\n",
    "                                country = 'us',\n",
    "                                sort = Sort.NEWEST\n",
    ")\n",
    "rm_reviews_goo = pd.DataFrame(np.array(rm_users_reviews_goo),columns=['review'])\n",
    "rm_reviews_goo = rm_reviews_goo.join(pd.DataFrame(rm_reviews_goo.pop('review').tolist()))\n",
    "rm_reviews_goo.head()"
   ]
  },
  {
   "cell_type": "code",
   "execution_count": 14,
   "id": "272d1634",
   "metadata": {},
   "outputs": [
    {
     "name": "stdout",
     "output_type": "stream",
     "text": [
      "<class 'pandas.core.frame.DataFrame'>\n",
      "RangeIndex: 42881 entries, 0 to 42880\n",
      "Data columns (total 10 columns):\n",
      " #   Column                Non-Null Count  Dtype         \n",
      "---  ------                --------------  -----         \n",
      " 0   reviewId              42881 non-null  object        \n",
      " 1   userName              42881 non-null  object        \n",
      " 2   userImage             42881 non-null  object        \n",
      " 3   content               42881 non-null  object        \n",
      " 4   score                 42881 non-null  int64         \n",
      " 5   thumbsUpCount         42881 non-null  int64         \n",
      " 6   reviewCreatedVersion  37341 non-null  object        \n",
      " 7   at                    42881 non-null  datetime64[ns]\n",
      " 8   replyContent          3422 non-null   object        \n",
      " 9   repliedAt             3422 non-null   datetime64[ns]\n",
      "dtypes: datetime64[ns](2), int64(2), object(6)\n",
      "memory usage: 3.3+ MB\n"
     ]
    }
   ],
   "source": [
    "rm_reviews_goo.info()"
   ]
  },
  {
   "cell_type": "code",
   "execution_count": 15,
   "id": "098bf81a",
   "metadata": {},
   "outputs": [
    {
     "name": "stderr",
     "output_type": "stream",
     "text": [
      "/var/folders/7c/8ptk959x0m533j_8q9d72vn00000gn/T/ipykernel_58453/1032007996.py:1: FutureWarning: Treating datetime data as categorical rather than numeric in `.describe` is deprecated and will be removed in a future version of pandas. Specify `datetime_is_numeric=True` to silence this warning and adopt the future behavior now.\n",
      "  rm_reviews_goo['at'].describe()\n"
     ]
    },
    {
     "data": {
      "text/plain": [
       "count                   42881\n",
       "unique                  42864\n",
       "top       2022-02-01 23:46:26\n",
       "freq                        2\n",
       "first     2020-07-20 23:47:00\n",
       "last      2022-10-27 20:16:52\n",
       "Name: at, dtype: object"
      ]
     },
     "execution_count": 15,
     "metadata": {},
     "output_type": "execute_result"
    }
   ],
   "source": [
    "rm_reviews_goo['at'].describe()"
   ]
  },
  {
   "cell_type": "code",
   "execution_count": 16,
   "id": "f35e121a",
   "metadata": {},
   "outputs": [],
   "source": [
    "rm_reviews_goo.to_csv('Royal_Match_goo.csv')"
   ]
  },
  {
   "cell_type": "code",
   "execution_count": 17,
   "id": "09d70a1f",
   "metadata": {},
   "outputs": [
    {
     "data": {
      "text/plain": [
       "<AxesSubplot:ylabel='score'>"
      ]
     },
     "execution_count": 17,
     "metadata": {},
     "output_type": "execute_result"
    },
    {
     "data": {
      "image/png": "[encoded data removed]",
      "text/plain": [
       "<Figure size 576x576 with 1 Axes>"
      ]
     },
     "metadata": {},
     "output_type": "display_data"
    }
   ],
   "source": [
    "rm_review_content = pd.DataFrame(rm_reviews_goo, columns = ['content','score'])\n",
    "rm_review_content['score'].value_counts().plot(kind = 'pie', \n",
    "                                                figsize = (8,8),autopct = '%1.1f%%')"
   ]
  },
  {
   "cell_type": "code",
   "execution_count": 12,
   "id": "fb32f1b1",
   "metadata": {},
   "outputs": [],
   "source": [
    "from google_play_scraper import reviews\n",
    "ccs_users_reviews_goo_20, _ = reviews(\n",
    "                                'com.king.candycrushsaga',\n",
    "                                lang = 'en',\n",
    "                                country = 'us',\n",
    "                                sort = Sort.NEWEST,\n",
    "                                count = 200000\n",
    ")"
   ]
  },
  {
   "cell_type": "code",
   "execution_count": 17,
   "id": "277ea897",
   "metadata": {},
   "outputs": [
    {
     "data": {
      "text/html": [
       "<div>\n",
       "<style scoped>\n",
       "    .dataframe tbody tr th:only-of-type {\n",
       "        vertical-align: middle;\n",
       "    }\n",
       "\n",
       "    .dataframe tbody tr th {\n",
       "        vertical-align: top;\n",
       "    }\n",
       "\n",
       "    .dataframe thead th {\n",
       "        text-align: right;\n",
       "    }\n",
       "</style>\n",
       "<table border=\"1\" class=\"dataframe\">\n",
       "  <thead>\n",
       "    <tr style=\"text-align: right;\">\n",
       "      <th></th>\n",
       "      <th>reviewId</th>\n",
       "      <th>userName</th>\n",
       "      <th>userImage</th>\n",
       "      <th>content</th>\n",
       "      <th>score</th>\n",
       "      <th>thumbsUpCount</th>\n",
       "      <th>reviewCreatedVersion</th>\n",
       "      <th>at</th>\n",
       "      <th>replyContent</th>\n",
       "      <th>repliedAt</th>\n",
       "    </tr>\n",
       "  </thead>\n",
       "  <tbody>\n",
       "    <tr>\n",
       "      <th>0</th>\n",
       "      <td>5c70abeb-a39d-4aa4-a1f7-b5ff7009e98c</td>\n",
       "      <td>Jennifer Scott</td>\n",
       "      <td>https://play-lh.googleusercontent.com/a/ALm5wu...</td>\n",
       "      <td>Fantastic great mind blowin can't put it down</td>\n",
       "      <td>5</td>\n",
       "      <td>0</td>\n",
       "      <td>1.239.0.5</td>\n",
       "      <td>2022-11-11 10:06:35</td>\n",
       "      <td>None</td>\n",
       "      <td>None</td>\n",
       "    </tr>\n",
       "    <tr>\n",
       "      <th>1</th>\n",
       "      <td>2e01ff48-4cb7-463e-ac27-fb366974792a</td>\n",
       "      <td>Fahad Sarker</td>\n",
       "      <td>https://play-lh.googleusercontent.com/a/ALm5wu...</td>\n",
       "      <td>My experience is so awesome... Thanks for made...</td>\n",
       "      <td>5</td>\n",
       "      <td>0</td>\n",
       "      <td>1.239.0.5</td>\n",
       "      <td>2022-11-11 10:00:36</td>\n",
       "      <td>None</td>\n",
       "      <td>None</td>\n",
       "    </tr>\n",
       "    <tr>\n",
       "      <th>2</th>\n",
       "      <td>bf0f80ca-a20c-4e3d-85db-7312aa04bf85</td>\n",
       "      <td>Lewis Kalasa</td>\n",
       "      <td>https://play-lh.googleusercontent.com/a/ALm5wu...</td>\n",
       "      <td>🔥🔥🔥🔥🎉🎉🎉🇿🇲</td>\n",
       "      <td>5</td>\n",
       "      <td>0</td>\n",
       "      <td>1.239.0.5</td>\n",
       "      <td>2022-11-11 09:57:52</td>\n",
       "      <td>None</td>\n",
       "      <td>None</td>\n",
       "    </tr>\n",
       "    <tr>\n",
       "      <th>3</th>\n",
       "      <td>8322908a-3a25-428f-860c-31f4e2b956ff</td>\n",
       "      <td>Melhem Tabet</td>\n",
       "      <td>https://play-lh.googleusercontent.com/a/ALm5wu...</td>\n",
       "      <td>Love it</td>\n",
       "      <td>5</td>\n",
       "      <td>0</td>\n",
       "      <td>1.240.0.2</td>\n",
       "      <td>2022-11-11 09:57:52</td>\n",
       "      <td>None</td>\n",
       "      <td>None</td>\n",
       "    </tr>\n",
       "    <tr>\n",
       "      <th>4</th>\n",
       "      <td>0a90313b-e33d-411d-9019-f2b71508bc1a</td>\n",
       "      <td>༄black ·H·O·L·E·,༒</td>\n",
       "      <td>https://play-lh.googleusercontent.com/a/ALm5wu...</td>\n",
       "      <td>It's is very nice game</td>\n",
       "      <td>4</td>\n",
       "      <td>0</td>\n",
       "      <td>1.237.0.3</td>\n",
       "      <td>2022-11-11 09:57:24</td>\n",
       "      <td>None</td>\n",
       "      <td>None</td>\n",
       "    </tr>\n",
       "  </tbody>\n",
       "</table>\n",
       "</div>"
      ],
      "text/plain": [
       "                               reviewId            userName  \\\n",
       "0  5c70abeb-a39d-4aa4-a1f7-b5ff7009e98c      Jennifer Scott   \n",
       "1  2e01ff48-4cb7-463e-ac27-fb366974792a        Fahad Sarker   \n",
       "2  bf0f80ca-a20c-4e3d-85db-7312aa04bf85        Lewis Kalasa   \n",
       "3  8322908a-3a25-428f-860c-31f4e2b956ff        Melhem Tabet   \n",
       "4  0a90313b-e33d-411d-9019-f2b71508bc1a  ༄black ·H·O·L·E·,༒   \n",
       "\n",
       "                                           userImage  \\\n",
       "0  https://play-lh.googleusercontent.com/a/ALm5wu...   \n",
       "1  https://play-lh.googleusercontent.com/a/ALm5wu...   \n",
       "2  https://play-lh.googleusercontent.com/a/ALm5wu...   \n",
       "3  https://play-lh.googleusercontent.com/a/ALm5wu...   \n",
       "4  https://play-lh.googleusercontent.com/a/ALm5wu...   \n",
       "\n",
       "                                             content  score  thumbsUpCount  \\\n",
       "0      Fantastic great mind blowin can't put it down      5              0   \n",
       "1  My experience is so awesome... Thanks for made...      5              0   \n",
       "2                                          🔥🔥🔥🔥🎉🎉🎉🇿🇲      5              0   \n",
       "3                                            Love it      5              0   \n",
       "4                             It's is very nice game      4              0   \n",
       "\n",
       "  reviewCreatedVersion                  at replyContent repliedAt  \n",
       "0            1.239.0.5 2022-11-11 10:06:35         None      None  \n",
       "1            1.239.0.5 2022-11-11 10:00:36         None      None  \n",
       "2            1.239.0.5 2022-11-11 09:57:52         None      None  \n",
       "3            1.240.0.2 2022-11-11 09:57:52         None      None  \n",
       "4            1.237.0.3 2022-11-11 09:57:24         None      None  "
      ]
     },
     "execution_count": 17,
     "metadata": {},
     "output_type": "execute_result"
    }
   ],
   "source": [
    "ccs_reviews_goo_20 = pd.DataFrame(np.array(ccs_users_reviews_goo_20),columns=['review'])\n",
    "ccs_reviews_goo_20 = ccs_reviews_goo_20.join(pd.DataFrame(ccs_reviews_goo_20.pop('review').tolist()))\n",
    "ccs_reviews_goo_20.head()"
   ]
  },
  {
   "cell_type": "code",
   "execution_count": 18,
   "id": "382933a9",
   "metadata": {},
   "outputs": [],
   "source": [
    "ccs_reviews_goo_20.to_csv('Candy_Crush_Saga_20w.csv')"
   ]
  },
  {
   "cell_type": "code",
   "execution_count": null,
   "id": "9e7ed65f",
   "metadata": {},
   "outputs": [],
   "source": [
    "# from google_play_scraper import reviews\n",
    "ccs_users_reviews_goo = reviews_all(\n",
    "                                'com.king.candycrushsaga',\n",
    "                                lang = 'en',\n",
    "                                country = 'us',\n",
    "                                sort = Sort.NEWEST)"
   ]
  },
  {
   "cell_type": "code",
   "execution_count": null,
   "id": "e15c5164",
   "metadata": {},
   "outputs": [],
   "source": [
    "ccs_reviews_goo.info()"
   ]
  },
  {
   "cell_type": "code",
   "execution_count": null,
   "id": "fc7a05c8",
   "metadata": {},
   "outputs": [],
   "source": [
    "ccs_reviews_goo['at'].describe()"
   ]
  },
  {
   "cell_type": "code",
   "execution_count": null,
   "id": "c106a2de",
   "metadata": {},
   "outputs": [],
   "source": [
    "ccs_reviews_goo.to_csv('Candy Crush Saga.csv')"
   ]
  },
  {
   "cell_type": "code",
   "execution_count": null,
   "id": "c505b2ee",
   "metadata": {},
   "outputs": [],
   "source": [
    "ccs_review_content = pd.DataFrame(ccs_reviews_goo, columns = ['content','score'])\n",
    "ccs_review_content['score'].value_counts().plot(kind = 'pie', \n",
    "                                                figsize = (8,8),autopct = '%1.1f%%')"
   ]
  },
  {
   "cell_type": "code",
   "execution_count": null,
   "id": "6ac77442",
   "metadata": {},
   "outputs": [],
   "source": []
  }
 ],
 "metadata": {
  "kernelspec": {
   "display_name": "Python 3 (ipykernel)",
   "language": "python",
   "name": "python3"
  },
  "language_info": {
   "codemirror_mode": {
    "name": "ipython",
    "version": 3
   },
   "file_extension": ".py",
   "mimetype": "text/x-python",
   "name": "python",
   "nbconvert_exporter": "python",
   "pygments_lexer": "ipython3",
   "version": "3.9.7"
  }
 },
 "nbformat": 4,
 "nbformat_minor": 5
}
